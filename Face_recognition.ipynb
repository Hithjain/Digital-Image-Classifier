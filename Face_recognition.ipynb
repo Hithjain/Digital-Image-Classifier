{
  "nbformat": 4,
  "nbformat_minor": 0,
  "metadata": {
    "colab": {
      "name": "Face recognition.ipynb",
      "provenance": []
    },
    "kernelspec": {
      "name": "python3",
      "display_name": "Python 3"
    },
    "accelerator": "GPU"
  },
  "cells": [
    {
      "cell_type": "code",
      "metadata": {
        "id": "Ilnl7ltZiaNr"
      },
      "source": [
        "# Agenda\n",
        "# Face recognition [Done]\n",
        "# Dynamic image recognition"
      ],
      "execution_count": null,
      "outputs": []
    },
    {
      "cell_type": "code",
      "metadata": {
        "id": "-8AnqIoVin1-",
        "outputId": "0d4d09e2-68d2-41f1-c795-70e9a7446feb",
        "colab": {
          "base_uri": "https://localhost:8080/"
        }
      },
      "source": [
        "!pip3 install face_recognition\n",
        "from google.colab import drive\n",
        "import numpy as np\n",
        "import face_recognition\n",
        "import PIL\n",
        "import os\n",
        "import glob\n",
        "drive.mount(\"/content/drive\")\n",
        "!cp -r \"/content/drive/My Drive/modi_trump_facerecognition\" \"./faces\""
      ],
      "execution_count": null,
      "outputs": [
        {
          "output_type": "stream",
          "text": [
            "Collecting face_recognition\n",
            "  Downloading https://files.pythonhosted.org/packages/1e/95/f6c9330f54ab07bfa032bf3715c12455a381083125d8880c43cbe76bb3d0/face_recognition-1.3.0-py2.py3-none-any.whl\n",
            "Collecting face-recognition-models>=0.3.0\n",
            "\u001b[?25l  Downloading https://files.pythonhosted.org/packages/cf/3b/4fd8c534f6c0d1b80ce0973d01331525538045084c73c153ee6df20224cf/face_recognition_models-0.3.0.tar.gz (100.1MB)\n",
            "\u001b[K     |████████████████████████████████| 100.2MB 75kB/s \n",
            "\u001b[?25hRequirement already satisfied: Pillow in /usr/local/lib/python3.6/dist-packages (from face_recognition) (7.0.0)\n",
            "Requirement already satisfied: numpy in /usr/local/lib/python3.6/dist-packages (from face_recognition) (1.18.5)\n",
            "Requirement already satisfied: dlib>=19.7 in /usr/local/lib/python3.6/dist-packages (from face_recognition) (19.18.0)\n",
            "Requirement already satisfied: Click>=6.0 in /usr/local/lib/python3.6/dist-packages (from face_recognition) (7.1.2)\n",
            "Building wheels for collected packages: face-recognition-models\n",
            "  Building wheel for face-recognition-models (setup.py) ... \u001b[?25l\u001b[?25hdone\n",
            "  Created wheel for face-recognition-models: filename=face_recognition_models-0.3.0-py2.py3-none-any.whl size=100566173 sha256=b5208248819bed35344c0f80b24671067df243ae621de0fc98b2aa4a22898520\n",
            "  Stored in directory: /root/.cache/pip/wheels/d2/99/18/59c6c8f01e39810415c0e63f5bede7d83dfb0ffc039865465f\n",
            "Successfully built face-recognition-models\n",
            "Installing collected packages: face-recognition-models, face-recognition\n",
            "Successfully installed face-recognition-1.3.0 face-recognition-models-0.3.0\n",
            "Mounted at /content/drive\n"
          ],
          "name": "stdout"
        }
      ]
    },
    {
      "cell_type": "code",
      "metadata": {
        "id": "GtqbJdFHRgLp"
      },
      "source": [
        "os.chdir(\"faces\")"
      ],
      "execution_count": null,
      "outputs": []
    },
    {
      "cell_type": "code",
      "metadata": {
        "id": "gGxAgK8SRmKM"
      },
      "source": [
        "list_of_images = glob.glob(\"*.jpg\")\n",
        "face_map = {}\n",
        "for img in list_of_images:\n",
        "    list_of_face_encodings = face_recognition.face_encodings(face_recognition.load_image_file(img))\n",
        "    atleast_one_match = False\n",
        "    for face in face_map:\n",
        "        current_faces = np.array(list_of_face_encodings)\n",
        "        past_face = np.frombuffer(face)\n",
        "        if any(face_recognition.compare_faces(current_faces,past_face)):\n",
        "            face_map[face].append(img)\n",
        "            atleast_one_match=True\n",
        "    if not atleast_one_match:\n",
        "        for enc in list_of_face_encodings:\n",
        "            encoded_str = np.array([enc]).tostring()\n",
        "            face_map[encoded_str]=[img]"
      ],
      "execution_count": null,
      "outputs": []
    },
    {
      "cell_type": "code",
      "metadata": {
        "id": "IP5_OJK5Z2cK",
        "outputId": "f19da9b9-2b92-479f-a9a2-758f50e8a5ff",
        "colab": {
          "base_uri": "https://localhost:8080/"
        }
      },
      "source": [
        "for face_num, v in enumerate(face_map.values(),1): \n",
        "    print(face_num,v)"
      ],
      "execution_count": null,
      "outputs": [
        {
          "output_type": "stream",
          "text": [
            "1 ['Trunp_3.jpg', 'both3.jpg', 'both1.jpg', 'Trunp_1.jpg', 'both2.jpg', 'Trunp_2.jpg']\n",
            "2 ['Modi2.jpg', 'both3.jpg', 'both1.jpg', 'both2.jpg', 'Modi1.jpg', 'Modi3.jpg']\n"
          ],
          "name": "stdout"
        }
      ]
    }
  ]
}